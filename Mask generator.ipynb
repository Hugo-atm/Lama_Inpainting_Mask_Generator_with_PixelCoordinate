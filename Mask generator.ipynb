{
 "cells": [
  {
   "cell_type": "code",
   "execution_count": 1,
   "id": "0eeef715",
   "metadata": {},
   "outputs": [
    {
     "name": "stderr",
     "output_type": "stream",
     "text": [
      "Processing Frames: 100%|██████████| 8043/8043 [05:47<00:00, 23.15frame/s]\n"
     ]
    }
   ],
   "source": [
    "import os\n",
    "import numpy as np\n",
    "import cv2\n",
    "import csv\n",
    "from tqdm import tqdm\n",
    "\n",
    "# Input and output folders\n",
    "input_folder = r'D:\\Tugas Akhir\\Subject TA\\S34\\S34_FR_Frames'\n",
    "output_folder = r'D:\\Tugas Akhir\\Subject TA\\S34\\S34_FR_MASK'\n",
    "\n",
    "# CSV file containing mask coordinates\n",
    "csv_file = r'D:\\Tugas Akhir\\Subject TA\\S34\\MARKER RESULTS S34\\Results\\S34FRCompressednotTrimmed_Filtered.csv'\n",
    "\n",
    "# Read the pixel coordinates from the CSV file\n",
    "with open(csv_file, 'r') as file:\n",
    "    csv_reader = csv.reader(file)\n",
    "    header = next(csv_reader)  # Read the header row\n",
    "    rows = list(csv_reader)\n",
    "\n",
    "# Create output folder if it doesn't exist\n",
    "os.makedirs(output_folder, exist_ok=True)\n",
    "\n",
    "# Process frames and generate masks\n",
    "for frame_number in tqdm(range(1, len(rows)+1), desc=\"Processing Frames\", unit=\"frame\"):\n",
    "    # Load the image\n",
    "    image_path = os.path.join(input_folder, f'Frame_{frame_number-1}.png')\n",
    "    image = cv2.imread(image_path)\n",
    "\n",
    "    if image is None:\n",
    "        print(f\"Unable to read {image_path}. Skipping...\")\n",
    "        continue\n",
    "\n",
    "    # Get the image dimensions\n",
    "    height, width = image.shape[:2]\n",
    "\n",
    "    # Create a blank mask with the same dimensions as the image\n",
    "    mask = np.zeros((height, width), dtype=np.uint8)\n",
    "\n",
    "    # Read the corresponding row from the CSV file\n",
    "    row = rows[frame_number-1]\n",
    "    for i in range(0, len(row), 2):\n",
    "        try:\n",
    "            x, y = map(float, (row[i], row[i+1]))\n",
    "            x, y = int(round(x)), int(round(y))\n",
    "\n",
    "            # Check if the coordinates are within the image bounds\n",
    "            if 0 <= x < width and 0 <= y < height:\n",
    "                cv2.circle(mask, (x, y), 40, 255, -1)\n",
    "\n",
    "        except ValueError:\n",
    "            # Skip non-numeric values or handle them differently\n",
    "            continue\n",
    "\n",
    "    # Save the mask as a PNG file in the output folder\n",
    "    output_path = os.path.join(output_folder, f'Frame_{frame_number-1}_mask.png')\n",
    "    cv2.imwrite(output_path, mask)"
   ]
  },
  {
   "cell_type": "code",
   "execution_count": null,
   "id": "e2e542e2",
   "metadata": {},
   "outputs": [],
   "source": []
  }
 ],
 "metadata": {
  "kernelspec": {
   "display_name": "Python 3 (ipykernel)",
   "language": "python",
   "name": "python3"
  },
  "language_info": {
   "codemirror_mode": {
    "name": "ipython",
    "version": 3
   },
   "file_extension": ".py",
   "mimetype": "text/x-python",
   "name": "python",
   "nbconvert_exporter": "python",
   "pygments_lexer": "ipython3",
   "version": "3.10.9"
  }
 },
 "nbformat": 4,
 "nbformat_minor": 5
}
